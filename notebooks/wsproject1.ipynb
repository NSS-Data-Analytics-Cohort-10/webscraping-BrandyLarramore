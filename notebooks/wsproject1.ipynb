{
 "cells": [
  {
   "cell_type": "markdown",
   "metadata": {},
   "source": [
    "## Webscraping\n",
    "\n",
    "In this exercise, you'll practice using BeautifulSoup to parse the content of a web page. The page that you'll be scraping, https://realpython.github.io/fake-jobs/, contains job listings. Your job is to extract the data on each job and convert into a pandas DataFrame."
   ]
  },
  {
   "cell_type": "markdown",
   "metadata": {},
   "source": [
    "1. Start by performing a GET request on the url above and convert the response into a BeautifulSoup object.  "
   ]
  },
  {
   "cell_type": "code",
   "execution_count": 1,
   "metadata": {},
   "outputs": [],
   "source": [
    "import pandas as pd\n",
    "import requests\n",
    "from bs4 import BeautifulSoup as BS\n",
    "URL = 'https://realpython.github.io/fake-jobs/'\n",
    "\n",
    "response = requests.get(URL)"
   ]
  },
  {
   "cell_type": "markdown",
   "metadata": {},
   "source": [
    "a. Use the .find method to find the tag containing the first job title (\"Senior Python Developer\"). Hint: can you find a tag type and/or a class that could be helpful for extracting this information? Extract the text from this title.  "
   ]
  },
  {
   "cell_type": "code",
   "execution_count": 8,
   "metadata": {},
   "outputs": [
    {
     "data": {
      "text/plain": [
       "<h2 class=\"title is-5\">Senior Python Developer</h2>"
      ]
     },
     "execution_count": 8,
     "metadata": {},
     "output_type": "execute_result"
    }
   ],
   "source": [
    "soup = BS(response.text)\n",
    "soup.find('h2')"
   ]
  },
  {
   "cell_type": "markdown",
   "metadata": {},
   "source": [
    "b. Now, use what you did for the first title, but extract the job title for all jobs on this page. Store the results in a list.  "
   ]
  },
  {
   "cell_type": "code",
   "execution_count": 10,
   "metadata": {},
   "outputs": [
    {
     "name": "stdout",
     "output_type": "stream",
     "text": [
      "<class 'bs4.element.ResultSet'>\n"
     ]
    },
    {
     "data": {
      "text/plain": [
       "[<h2 class=\"title is-5\">Senior Python Developer</h2>,\n",
       " <h2 class=\"title is-5\">Energy engineer</h2>,\n",
       " <h2 class=\"title is-5\">Legal executive</h2>,\n",
       " <h2 class=\"title is-5\">Fitness centre manager</h2>,\n",
       " <h2 class=\"title is-5\">Product manager</h2>,\n",
       " <h2 class=\"title is-5\">Medical technical officer</h2>,\n",
       " <h2 class=\"title is-5\">Physiological scientist</h2>,\n",
       " <h2 class=\"title is-5\">Textile designer</h2>,\n",
       " <h2 class=\"title is-5\">Television floor manager</h2>,\n",
       " <h2 class=\"title is-5\">Waste management officer</h2>,\n",
       " <h2 class=\"title is-5\">Software Engineer (Python)</h2>,\n",
       " <h2 class=\"title is-5\">Interpreter</h2>,\n",
       " <h2 class=\"title is-5\">Architect</h2>,\n",
       " <h2 class=\"title is-5\">Meteorologist</h2>,\n",
       " <h2 class=\"title is-5\">Audiological scientist</h2>,\n",
       " <h2 class=\"title is-5\">English as a second language teacher</h2>,\n",
       " <h2 class=\"title is-5\">Surgeon</h2>,\n",
       " <h2 class=\"title is-5\">Equities trader</h2>,\n",
       " <h2 class=\"title is-5\">Newspaper journalist</h2>,\n",
       " <h2 class=\"title is-5\">Materials engineer</h2>,\n",
       " <h2 class=\"title is-5\">Python Programmer (Entry-Level)</h2>,\n",
       " <h2 class=\"title is-5\">Product/process development scientist</h2>,\n",
       " <h2 class=\"title is-5\">Scientist, research (maths)</h2>,\n",
       " <h2 class=\"title is-5\">Ecologist</h2>,\n",
       " <h2 class=\"title is-5\">Materials engineer</h2>,\n",
       " <h2 class=\"title is-5\">Historic buildings inspector/conservation officer</h2>,\n",
       " <h2 class=\"title is-5\">Data scientist</h2>,\n",
       " <h2 class=\"title is-5\">Psychiatrist</h2>,\n",
       " <h2 class=\"title is-5\">Structural engineer</h2>,\n",
       " <h2 class=\"title is-5\">Immigration officer</h2>,\n",
       " <h2 class=\"title is-5\">Python Programmer (Entry-Level)</h2>,\n",
       " <h2 class=\"title is-5\">Neurosurgeon</h2>,\n",
       " <h2 class=\"title is-5\">Broadcast engineer</h2>,\n",
       " <h2 class=\"title is-5\">Make</h2>,\n",
       " <h2 class=\"title is-5\">Nurse, adult</h2>,\n",
       " <h2 class=\"title is-5\">Air broker</h2>,\n",
       " <h2 class=\"title is-5\">Editor, film/video</h2>,\n",
       " <h2 class=\"title is-5\">Production assistant, radio</h2>,\n",
       " <h2 class=\"title is-5\">Engineer, communications</h2>,\n",
       " <h2 class=\"title is-5\">Sales executive</h2>,\n",
       " <h2 class=\"title is-5\">Software Developer (Python)</h2>,\n",
       " <h2 class=\"title is-5\">Futures trader</h2>,\n",
       " <h2 class=\"title is-5\">Tour manager</h2>,\n",
       " <h2 class=\"title is-5\">Cytogeneticist</h2>,\n",
       " <h2 class=\"title is-5\">Designer, multimedia</h2>,\n",
       " <h2 class=\"title is-5\">Trade union research officer</h2>,\n",
       " <h2 class=\"title is-5\">Chemist, analytical</h2>,\n",
       " <h2 class=\"title is-5\">Programmer, multimedia</h2>,\n",
       " <h2 class=\"title is-5\">Engineer, broadcasting (operations)</h2>,\n",
       " <h2 class=\"title is-5\">Teacher, primary school</h2>,\n",
       " <h2 class=\"title is-5\">Python Developer</h2>,\n",
       " <h2 class=\"title is-5\">Manufacturing systems engineer</h2>,\n",
       " <h2 class=\"title is-5\">Producer, television/film/video</h2>,\n",
       " <h2 class=\"title is-5\">Scientist, forensic</h2>,\n",
       " <h2 class=\"title is-5\">Bonds trader</h2>,\n",
       " <h2 class=\"title is-5\">Editorial assistant</h2>,\n",
       " <h2 class=\"title is-5\">Photographer</h2>,\n",
       " <h2 class=\"title is-5\">Retail banker</h2>,\n",
       " <h2 class=\"title is-5\">Jewellery designer</h2>,\n",
       " <h2 class=\"title is-5\">Ophthalmologist</h2>,\n",
       " <h2 class=\"title is-5\">Back-End Web Developer (Python, Django)</h2>,\n",
       " <h2 class=\"title is-5\">Licensed conveyancer</h2>,\n",
       " <h2 class=\"title is-5\">Futures trader</h2>,\n",
       " <h2 class=\"title is-5\">Counselling psychologist</h2>,\n",
       " <h2 class=\"title is-5\">Insurance underwriter</h2>,\n",
       " <h2 class=\"title is-5\">Engineer, automotive</h2>,\n",
       " <h2 class=\"title is-5\">Producer, radio</h2>,\n",
       " <h2 class=\"title is-5\">Dispensing optician</h2>,\n",
       " <h2 class=\"title is-5\">Designer, fashion/clothing</h2>,\n",
       " <h2 class=\"title is-5\">Chartered loss adjuster</h2>,\n",
       " <h2 class=\"title is-5\">Back-End Web Developer (Python, Django)</h2>,\n",
       " <h2 class=\"title is-5\">Forest/woodland manager</h2>,\n",
       " <h2 class=\"title is-5\">Clinical cytogeneticist</h2>,\n",
       " <h2 class=\"title is-5\">Print production planner</h2>,\n",
       " <h2 class=\"title is-5\">Systems developer</h2>,\n",
       " <h2 class=\"title is-5\">Graphic designer</h2>,\n",
       " <h2 class=\"title is-5\">Writer</h2>,\n",
       " <h2 class=\"title is-5\">Field seismologist</h2>,\n",
       " <h2 class=\"title is-5\">Chief Strategy Officer</h2>,\n",
       " <h2 class=\"title is-5\">Air cabin crew</h2>,\n",
       " <h2 class=\"title is-5\">Python Programmer (Entry-Level)</h2>,\n",
       " <h2 class=\"title is-5\">Warden/ranger</h2>,\n",
       " <h2 class=\"title is-5\">Sports therapist</h2>,\n",
       " <h2 class=\"title is-5\">Arts development officer</h2>,\n",
       " <h2 class=\"title is-5\">Printmaker</h2>,\n",
       " <h2 class=\"title is-5\">Health and safety adviser</h2>,\n",
       " <h2 class=\"title is-5\">Manufacturing systems engineer</h2>,\n",
       " <h2 class=\"title is-5\">Programmer, applications</h2>,\n",
       " <h2 class=\"title is-5\">Medical physicist</h2>,\n",
       " <h2 class=\"title is-5\">Media planner</h2>,\n",
       " <h2 class=\"title is-5\">Software Developer (Python)</h2>,\n",
       " <h2 class=\"title is-5\">Surveyor, land/geomatics</h2>,\n",
       " <h2 class=\"title is-5\">Legal executive</h2>,\n",
       " <h2 class=\"title is-5\">Librarian, academic</h2>,\n",
       " <h2 class=\"title is-5\">Barrister</h2>,\n",
       " <h2 class=\"title is-5\">Museum/gallery exhibitions officer</h2>,\n",
       " <h2 class=\"title is-5\">Radiographer, diagnostic</h2>,\n",
       " <h2 class=\"title is-5\">Database administrator</h2>,\n",
       " <h2 class=\"title is-5\">Furniture designer</h2>,\n",
       " <h2 class=\"title is-5\">Ship broker</h2>]"
      ]
     },
     "execution_count": 10,
     "metadata": {},
     "output_type": "execute_result"
    }
   ],
   "source": [
    "titles = soup.findAll('h2')\n",
    "print(type(titles))\n",
    "titles"
   ]
  },
  {
   "cell_type": "markdown",
   "metadata": {},
   "source": [
    "c. Finally, extract the companies, locations, and posting dates for each job. For example, the first job has a company of \"Payne, Roberts and Davis\", a location of \"Stewartbury, AA\", and a posting date of \"2021-04-08\". Ensure that the text that you extract is clean, meaning no extra spaces or other characters at the beginning or end.  "
   ]
  },
  {
   "cell_type": "code",
   "execution_count": 11,
   "metadata": {},
   "outputs": [],
   "source": [
    "soup.find('table', attrs={'class' : 'card-content'})"
   ]
  },
  {
   "cell_type": "markdown",
   "metadata": {},
   "source": [
    "d. Take the lists that you have created and combine them into a pandas DataFrame. "
   ]
  },
  {
   "cell_type": "code",
   "execution_count": 19,
   "metadata": {},
   "outputs": [
    {
     "ename": "SyntaxError",
     "evalue": "closing parenthesis '}' does not match opening parenthesis '(' (2429231979.py, line 1)",
     "output_type": "error",
     "traceback": [
      "\u001b[1;36m  Cell \u001b[1;32mIn[19], line 1\u001b[1;36m\u001b[0m\n\u001b[1;33m    pd.read_html(str(soup.find(grouped})))[0]\u001b[0m\n\u001b[1;37m                                      ^\u001b[0m\n\u001b[1;31mSyntaxError\u001b[0m\u001b[1;31m:\u001b[0m closing parenthesis '}' does not match opening parenthesis '('\n"
     ]
    }
   ],
   "source": [
    "pd.read_html(str(soup.find(grouped})))[0]"
   ]
  },
  {
   "cell_type": "markdown",
   "metadata": {},
   "source": [
    "2. Next, add a column that contains the url for the \"Apply\" button. Try this in two ways."
   ]
  }
 ],
 "metadata": {
  "kernelspec": {
   "display_name": "base",
   "language": "python",
   "name": "python3"
  },
  "language_info": {
   "codemirror_mode": {
    "name": "ipython",
    "version": 3
   },
   "file_extension": ".py",
   "mimetype": "text/x-python",
   "name": "python",
   "nbconvert_exporter": "python",
   "pygments_lexer": "ipython3",
   "version": "3.11.5"
  }
 },
 "nbformat": 4,
 "nbformat_minor": 2
}
